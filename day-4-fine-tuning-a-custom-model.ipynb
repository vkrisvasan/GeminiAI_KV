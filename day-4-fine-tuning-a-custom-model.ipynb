{
 "cells": [
  {
   "cell_type": "markdown",
   "id": "cf5f07f2",
   "metadata": {
    "id": "b6e13eef3f5d",
    "papermill": {
     "duration": 0.016119,
     "end_time": "2024-11-18T01:45:32.099262",
     "exception": false,
     "start_time": "2024-11-18T01:45:32.083143",
     "status": "completed"
    },
    "tags": []
   },
   "source": [
    "##### Copyright 2024 Google LLC."
   ]
  },
  {
   "cell_type": "code",
   "execution_count": 1,
   "id": "43877971",
   "metadata": {
    "cellView": "form",
    "execution": {
     "iopub.execute_input": "2024-11-18T01:45:32.128730Z",
     "iopub.status.busy": "2024-11-18T01:45:32.128286Z",
     "iopub.status.idle": "2024-11-18T01:45:32.134399Z",
     "shell.execute_reply": "2024-11-18T01:45:32.133262Z"
    },
    "id": "d6597b11df14",
    "jupyter": {
     "source_hidden": true
    },
    "papermill": {
     "duration": 0.023219,
     "end_time": "2024-11-18T01:45:32.136802",
     "exception": false,
     "start_time": "2024-11-18T01:45:32.113583",
     "status": "completed"
    },
    "tags": []
   },
   "outputs": [],
   "source": [
    "# @title Licensed under the Apache License, Version 2.0 (the \"License\");\n",
    "# you may not use this file except in compliance with the License.\n",
    "# You may obtain a copy of the License at\n",
    "#\n",
    "# https://www.apache.org/licenses/LICENSE-2.0\n",
    "#\n",
    "# Unless required by applicable law or agreed to in writing, software\n",
    "# distributed under the License is distributed on an \"AS IS\" BASIS,\n",
    "# WITHOUT WARRANTIES OR CONDITIONS OF ANY KIND, either express or implied.\n",
    "# See the License for the specific language governing permissions and\n",
    "# limitations under the License."
   ]
  },
  {
   "cell_type": "markdown",
   "id": "32f8e04c",
   "metadata": {
    "id": "4KDIFPAL2EnL",
    "papermill": {
     "duration": 0.013209,
     "end_time": "2024-11-18T01:45:32.164334",
     "exception": false,
     "start_time": "2024-11-18T01:45:32.151125",
     "status": "completed"
    },
    "tags": []
   },
   "source": [
    "# Day 4 - Fine tuning a custom model\n",
    "\n",
    "Welcome back to the Kaggle 5-day Generative AI course!\n",
    "\n",
    "In this notebook you will use the Gemini API to fine-tune a custom, task-specific model. Fine-tuning can be used for a variety of tasks from classic NLP problems like entity extraction or summarisation, to creative tasks like stylised generation. You will fine-tune a model to classify the category a piece of text (a newsgroup post) into the category it belongs to (the newsgroup name).\n",
    "\n",
    "This codelab walks you tuning a model with the API. [AI Studio](https://aistudio.google.com/app/tune) also supports creating new tuned models directly in the web UI, allowing you to quickly create and monitor models using data from Google Sheets, Drive or your own files."
   ]
  },
  {
   "cell_type": "code",
   "execution_count": 2,
   "id": "0fba523d",
   "metadata": {
    "execution": {
     "iopub.execute_input": "2024-11-18T01:45:32.192882Z",
     "iopub.status.busy": "2024-11-18T01:45:32.192424Z",
     "iopub.status.idle": "2024-11-18T01:46:02.555194Z",
     "shell.execute_reply": "2024-11-18T01:46:02.553882Z"
    },
    "id": "9wafTyEH1_xF",
    "papermill": {
     "duration": 30.39265,
     "end_time": "2024-11-18T01:46:02.570397",
     "exception": false,
     "start_time": "2024-11-18T01:45:32.177747",
     "status": "completed"
    },
    "tags": []
   },
   "outputs": [
    {
     "name": "stdout",
     "output_type": "stream",
     "text": [
      "Note: you may need to restart the kernel to use updated packages.\n"
     ]
    }
   ],
   "source": [
    "%pip install -U -q 'google-generativeai>=0.8.3'"
   ]
  },
  {
   "cell_type": "markdown",
   "id": "3c56bfb5",
   "metadata": {
    "papermill": {
     "duration": 0.013146,
     "end_time": "2024-11-18T01:46:02.597038",
     "exception": false,
     "start_time": "2024-11-18T01:46:02.583892",
     "status": "completed"
    },
    "tags": []
   },
   "source": [
    "Note that you do not have to restart the kernel."
   ]
  },
  {
   "cell_type": "code",
   "execution_count": 3,
   "id": "133b1519",
   "metadata": {
    "execution": {
     "iopub.execute_input": "2024-11-18T01:46:02.627966Z",
     "iopub.status.busy": "2024-11-18T01:46:02.627514Z",
     "iopub.status.idle": "2024-11-18T01:46:03.829343Z",
     "shell.execute_reply": "2024-11-18T01:46:03.828263Z"
    },
    "id": "T0CBG9xL2PvT",
    "papermill": {
     "duration": 1.219926,
     "end_time": "2024-11-18T01:46:03.832258",
     "exception": false,
     "start_time": "2024-11-18T01:46:02.612332",
     "status": "completed"
    },
    "tags": []
   },
   "outputs": [],
   "source": [
    "import google.generativeai as genai"
   ]
  },
  {
   "cell_type": "markdown",
   "id": "91545491",
   "metadata": {
    "id": "P4bYX2T72ScK",
    "papermill": {
     "duration": 0.013633,
     "end_time": "2024-11-18T01:46:03.859503",
     "exception": false,
     "start_time": "2024-11-18T01:46:03.845870",
     "status": "completed"
    },
    "tags": []
   },
   "source": [
    "### Set up your API key\n",
    "\n",
    "To run the following cell, your API key must be stored it in a [Kaggle secret](https://www.kaggle.com/discussions/product-feedback/114053) named `GOOGLE_API_KEY`.\n",
    "\n",
    "If you don't already have an API key, you can grab one from [AI Studio](https://aistudio.google.com/app/apikey). You can find [detailed instructions in the docs](https://ai.google.dev/gemini-api/docs/api-key).\n",
    "\n",
    "To make the key available through Kaggle secrets, choose `Secrets` from the `Add-ons` menu and follow the instructions to add your key or enable it for this notebook."
   ]
  },
  {
   "cell_type": "code",
   "execution_count": 4,
   "id": "c2c5c563",
   "metadata": {
    "execution": {
     "iopub.execute_input": "2024-11-18T01:46:03.889236Z",
     "iopub.status.busy": "2024-11-18T01:46:03.888300Z",
     "iopub.status.idle": "2024-11-18T01:46:04.051673Z",
     "shell.execute_reply": "2024-11-18T01:46:04.050413Z"
    },
    "id": "VuJPY3GK2SLZ",
    "papermill": {
     "duration": 0.181186,
     "end_time": "2024-11-18T01:46:04.054462",
     "exception": false,
     "start_time": "2024-11-18T01:46:03.873276",
     "status": "completed"
    },
    "tags": []
   },
   "outputs": [],
   "source": [
    "from kaggle_secrets import UserSecretsClient\n",
    "\n",
    "GOOGLE_API_KEY = UserSecretsClient().get_secret(\"GOOGLE_API_KEY\")\n",
    "genai.configure(api_key=GOOGLE_API_KEY)"
   ]
  },
  {
   "attachments": {
    "53e1d527-de81-497e-bfac-58df458e750b.png": {
     "image/png": "[encoded data removed]"
    }
   },
   "cell_type": "markdown",
   "id": "f2966626",
   "metadata": {
    "id": "25b2127c2052",
    "papermill": {
     "duration": 0.013081,
     "end_time": "2024-11-18T01:46:04.081271",
     "exception": false,
     "start_time": "2024-11-18T01:46:04.068190",
     "status": "completed"
    },
    "tags": []
   },
   "source": [
    "If you received an error response along the lines of `No user secrets exist for kernel id ...`, then you need to add your API key via `Add-ons`, `Secrets` **and** enable it.\n",
    "\n",
    "![Screenshot of the checkbox to enable GOOGLE_API_KEY secret](https://storage.googleapis.com/kaggle-media/Images/5gdai_sc_3.png)"
   ]
  },
  {
   "cell_type": "markdown",
   "id": "93faf11a",
   "metadata": {
    "id": "CqVA5QFO6n4z",
    "papermill": {
     "duration": 0.013058,
     "end_time": "2024-11-18T01:46:04.107663",
     "exception": false,
     "start_time": "2024-11-18T01:46:04.094605",
     "status": "completed"
    },
    "tags": []
   },
   "source": [
    "### Explore available models\n",
    "\n",
    "You will be using the [`TunedModel.create`](https://ai.google.dev/api/tuning#method:-tunedmodels.create) API method to start the fine-tuning job and create your custom model. Find a model that supports it through the [`models.list`](https://ai.google.dev/api/models#method:-models.list) endpoint. You can also find more information about tuning models in [the model tuning docs](https://ai.google.dev/gemini-api/docs/model-tuning/tutorial?lang=python)."
   ]
  },
  {
   "cell_type": "code",
   "execution_count": 5,
   "id": "fb68b04f",
   "metadata": {
    "execution": {
     "iopub.execute_input": "2024-11-18T01:46:04.136159Z",
     "iopub.status.busy": "2024-11-18T01:46:04.135742Z",
     "iopub.status.idle": "2024-11-18T01:46:04.340821Z",
     "shell.execute_reply": "2024-11-18T01:46:04.339571Z"
    },
    "id": "coEacWAB6o0G",
    "papermill": {
     "duration": 0.222418,
     "end_time": "2024-11-18T01:46:04.343469",
     "exception": false,
     "start_time": "2024-11-18T01:46:04.121051",
     "status": "completed"
    },
    "tags": []
   },
   "outputs": [
    {
     "name": "stdout",
     "output_type": "stream",
     "text": [
      "models/gemini-1.0-pro-001\n",
      "models/gemini-1.5-flash-001-tuning\n"
     ]
    }
   ],
   "source": [
    "for model in genai.list_models():\n",
    "    if \"createTunedModel\" in model.supported_generation_methods:\n",
    "        print(model.name)"
   ]
  },
  {
   "cell_type": "markdown",
   "id": "155dd85f",
   "metadata": {
    "id": "peFm0w_0c1CO",
    "papermill": {
     "duration": 0.013055,
     "end_time": "2024-11-18T01:46:04.370055",
     "exception": false,
     "start_time": "2024-11-18T01:46:04.357000",
     "status": "completed"
    },
    "tags": []
   },
   "source": [
    "## Download the dataset\n",
    "\n",
    "In this activity, you will use the same newsgroups dataset that you used to train a classifier in Keras. In this example you will use a fine-tuned Gemini model to achieve the same goal.\n",
    "\n",
    "The [20 Newsgroups Text Dataset](https://scikit-learn.org/0.19/datasets/twenty_newsgroups.html) contains 18,000 newsgroups posts on 20 topics divided into training and test sets."
   ]
  },
  {
   "cell_type": "code",
   "execution_count": 6,
   "id": "03af0bff",
   "metadata": {
    "execution": {
     "iopub.execute_input": "2024-11-18T01:46:04.398945Z",
     "iopub.status.busy": "2024-11-18T01:46:04.398465Z",
     "iopub.status.idle": "2024-11-18T01:46:18.104595Z",
     "shell.execute_reply": "2024-11-18T01:46:18.103304Z"
    },
    "id": "bX_kpgnQ9b-Z",
    "papermill": {
     "duration": 13.723516,
     "end_time": "2024-11-18T01:46:18.107232",
     "exception": false,
     "start_time": "2024-11-18T01:46:04.383716",
     "status": "completed"
    },
    "tags": []
   },
   "outputs": [
    {
     "data": {
      "text/plain": [
       "['alt.atheism',\n",
       " 'comp.graphics',\n",
       " 'comp.os.ms-windows.misc',\n",
       " 'comp.sys.ibm.pc.hardware',\n",
       " 'comp.sys.mac.hardware',\n",
       " 'comp.windows.x',\n",
       " 'misc.forsale',\n",
       " 'rec.autos',\n",
       " 'rec.motorcycles',\n",
       " 'rec.sport.baseball',\n",
       " 'rec.sport.hockey',\n",
       " 'sci.crypt',\n",
       " 'sci.electronics',\n",
       " 'sci.med',\n",
       " 'sci.space',\n",
       " 'soc.religion.christian',\n",
       " 'talk.politics.guns',\n",
       " 'talk.politics.mideast',\n",
       " 'talk.politics.misc',\n",
       " 'talk.religion.misc']"
      ]
     },
     "execution_count": 6,
     "metadata": {},
     "output_type": "execute_result"
    }
   ],
   "source": [
    "from sklearn.datasets import fetch_20newsgroups\n",
    "\n",
    "newsgroups_train = fetch_20newsgroups(subset=\"train\")\n",
    "newsgroups_test = fetch_20newsgroups(subset=\"test\")\n",
    "\n",
    "# View list of class names for dataset\n",
    "newsgroups_train.target_names"
   ]
  },
  {
   "cell_type": "markdown",
   "id": "60da0faa",
   "metadata": {
    "id": "ipafe6ptZFjt",
    "papermill": {
     "duration": 0.01324,
     "end_time": "2024-11-18T01:46:18.134410",
     "exception": false,
     "start_time": "2024-11-18T01:46:18.121170",
     "status": "completed"
    },
    "tags": []
   },
   "source": [
    "Here's what a single row looks like."
   ]
  },
  {
   "cell_type": "code",
   "execution_count": 7,
   "id": "9919aa9c",
   "metadata": {
    "execution": {
     "iopub.execute_input": "2024-11-18T01:46:18.164131Z",
     "iopub.status.busy": "2024-11-18T01:46:18.163119Z",
     "iopub.status.idle": "2024-11-18T01:46:18.169258Z",
     "shell.execute_reply": "2024-11-18T01:46:18.168153Z"
    },
    "id": "EtEXcdT39hCB",
    "papermill": {
     "duration": 0.023669,
     "end_time": "2024-11-18T01:46:18.171805",
     "exception": false,
     "start_time": "2024-11-18T01:46:18.148136",
     "status": "completed"
    },
    "tags": []
   },
   "outputs": [
    {
     "name": "stdout",
     "output_type": "stream",
     "text": [
      "From: lerxst@wam.umd.edu (where's my thing)\n",
      "Subject: WHAT car is this!?\n",
      "Nntp-Posting-Host: rac3.wam.umd.edu\n",
      "Organization: University of Maryland, College Park\n",
      "Lines: 15\n",
      "\n",
      " I was wondering if anyone out there could enlighten me on this car I saw\n",
      "the other day. It was a 2-door sports car, looked to be from the late 60s/\n",
      "early 70s. It was called a Bricklin. The doors were really small. In addition,\n",
      "the front bumper was separate from the rest of the body. This is \n",
      "all I know. If anyone can tellme a model name, engine specs, years\n",
      "of production, where this car is made, history, or whatever info you\n",
      "have on this funky looking car, please e-mail.\n",
      "\n",
      "Thanks,\n",
      "- IL\n",
      "   ---- brought to you by your neighborhood Lerxst ----\n",
      "\n",
      "\n",
      "\n",
      "\n",
      "\n"
     ]
    }
   ],
   "source": [
    "print(newsgroups_train.data[0])"
   ]
  },
  {
   "cell_type": "markdown",
   "id": "e6801b9e",
   "metadata": {
    "id": "03lDs1O4ZQ0-",
    "papermill": {
     "duration": 0.013284,
     "end_time": "2024-11-18T01:46:18.198928",
     "exception": false,
     "start_time": "2024-11-18T01:46:18.185644",
     "status": "completed"
    },
    "tags": []
   },
   "source": [
    "## Prepare the dataset\n",
    "\n",
    "You'll use the same pre-processing code you used for the custom model on day 2. This pre-processing removes personal information, which can be used to \"shortcut\" to known users of a forum, and formats the text to appear a bit more like regular text and less like a newsgroup post (e.g. by removing the mail headers). This normalisation allows the model to generalise to regular text and not over-depend on specific fields. If your input data is always going to be newsgroup posts, it may be helpful to leave this structure in place if they provide genuine signals."
   ]
  },
  {
   "cell_type": "code",
   "execution_count": 8,
   "id": "0ceb1faf",
   "metadata": {
    "execution": {
     "iopub.execute_input": "2024-11-18T01:46:18.228119Z",
     "iopub.status.busy": "2024-11-18T01:46:18.227680Z",
     "iopub.status.idle": "2024-11-18T01:46:19.133810Z",
     "shell.execute_reply": "2024-11-18T01:46:19.132590Z"
    },
    "id": "IoNYTxpoZgB0",
    "papermill": {
     "duration": 0.924141,
     "end_time": "2024-11-18T01:46:19.136787",
     "exception": false,
     "start_time": "2024-11-18T01:46:18.212646",
     "status": "completed"
    },
    "tags": []
   },
   "outputs": [],
   "source": [
    "import email\n",
    "import re\n",
    "\n",
    "import pandas as pd\n",
    "\n",
    "\n",
    "def preprocess_newsgroup_row(data):\n",
    "    # Extract only the subject and body\n",
    "    msg = email.message_from_string(data)\n",
    "    text = f\"{msg['Subject']}\\n\\n{msg.get_payload()}\"\n",
    "    # Strip any remaining email addresses\n",
    "    text = re.sub(r\"[\\w\\.-]+@[\\w\\.-]+\", \"\", text)\n",
    "    # Truncate the text to fit within the input limits\n",
    "    text = text[:40000]\n",
    "\n",
    "    return text\n",
    "\n",
    "\n",
    "def preprocess_newsgroup_data(newsgroup_dataset):\n",
    "    # Put data points into dataframe\n",
    "    df = pd.DataFrame(\n",
    "        {\"Text\": newsgroup_dataset.data, \"Label\": newsgroup_dataset.target}\n",
    "    )\n",
    "    # Clean up the text\n",
    "    df[\"Text\"] = df[\"Text\"].apply(preprocess_newsgroup_row)\n",
    "    # Match label to target name index\n",
    "    df[\"Class Name\"] = df[\"Label\"].map(lambda l: newsgroup_dataset.target_names[l])\n",
    "\n",
    "    return df"
   ]
  },
  {
   "cell_type": "code",
   "execution_count": 9,
   "id": "32ebb7dc",
   "metadata": {
    "execution": {
     "iopub.execute_input": "2024-11-18T01:46:19.167469Z",
     "iopub.status.busy": "2024-11-18T01:46:19.166133Z",
     "iopub.status.idle": "2024-11-18T01:46:26.169847Z",
     "shell.execute_reply": "2024-11-18T01:46:26.168711Z"
    },
    "id": "kvOsUSRWaW4g",
    "papermill": {
     "duration": 7.021657,
     "end_time": "2024-11-18T01:46:26.172433",
     "exception": false,
     "start_time": "2024-11-18T01:46:19.150776",
     "status": "completed"
    },
    "tags": []
   },
   "outputs": [
    {
     "data": {
      "text/html": [
       "<div>\n",
       "<style scoped>\n",
       "    .dataframe tbody tr th:only-of-type {\n",
       "        vertical-align: middle;\n",
       "    }\n",
       "\n",
       "    .dataframe tbody tr th {\n",
       "        vertical-align: top;\n",
       "    }\n",
       "\n",
       "    .dataframe thead th {\n",
       "        text-align: right;\n",
       "    }\n",
       "</style>\n",
       "<table border=\"1\" class=\"dataframe\">\n",
       "  <thead>\n",
       "    <tr style=\"text-align: right;\">\n",
       "      <th></th>\n",
       "      <th>Text</th>\n",
       "      <th>Label</th>\n",
       "      <th>Class Name</th>\n",
       "    </tr>\n",
       "  </thead>\n",
       "  <tbody>\n",
       "    <tr>\n",
       "      <th>0</th>\n",
       "      <td>WHAT car is this!?\\n\\n I was wondering if anyo...</td>\n",
       "      <td>7</td>\n",
       "      <td>rec.autos</td>\n",
       "    </tr>\n",
       "    <tr>\n",
       "      <th>1</th>\n",
       "      <td>SI Clock Poll - Final Call\\n\\nA fair number of...</td>\n",
       "      <td>4</td>\n",
       "      <td>comp.sys.mac.hardware</td>\n",
       "    </tr>\n",
       "    <tr>\n",
       "      <th>2</th>\n",
       "      <td>PB questions...\\n\\nwell folks, my mac plus fin...</td>\n",
       "      <td>4</td>\n",
       "      <td>comp.sys.mac.hardware</td>\n",
       "    </tr>\n",
       "    <tr>\n",
       "      <th>3</th>\n",
       "      <td>Re: Weitek P9000 ?\\n\\nRobert J.C. Kyanko () wr...</td>\n",
       "      <td>1</td>\n",
       "      <td>comp.graphics</td>\n",
       "    </tr>\n",
       "    <tr>\n",
       "      <th>4</th>\n",
       "      <td>Re: Shuttle Launch Question\\n\\nFrom article &lt;&gt;...</td>\n",
       "      <td>14</td>\n",
       "      <td>sci.space</td>\n",
       "    </tr>\n",
       "  </tbody>\n",
       "</table>\n",
       "</div>"
      ],
      "text/plain": [
       "                                                Text  Label  \\\n",
       "0  WHAT car is this!?\\n\\n I was wondering if anyo...      7   \n",
       "1  SI Clock Poll - Final Call\\n\\nA fair number of...      4   \n",
       "2  PB questions...\\n\\nwell folks, my mac plus fin...      4   \n",
       "3  Re: Weitek P9000 ?\\n\\nRobert J.C. Kyanko () wr...      1   \n",
       "4  Re: Shuttle Launch Question\\n\\nFrom article <>...     14   \n",
       "\n",
       "              Class Name  \n",
       "0              rec.autos  \n",
       "1  comp.sys.mac.hardware  \n",
       "2  comp.sys.mac.hardware  \n",
       "3          comp.graphics  \n",
       "4              sci.space  "
      ]
     },
     "execution_count": 9,
     "metadata": {},
     "output_type": "execute_result"
    }
   ],
   "source": [
    "# Apply preprocessing to training and test datasets\n",
    "df_train = preprocess_newsgroup_data(newsgroups_train)\n",
    "df_test = preprocess_newsgroup_data(newsgroups_test)\n",
    "\n",
    "df_train.head()"
   ]
  },
  {
   "cell_type": "markdown",
   "id": "d04a4ecd",
   "metadata": {
    "id": "XSKcj5WtadaR",
    "papermill": {
     "duration": 0.013624,
     "end_time": "2024-11-18T01:46:26.200330",
     "exception": false,
     "start_time": "2024-11-18T01:46:26.186706",
     "status": "completed"
    },
    "tags": []
   },
   "source": [
    "Now sample the data. You will keep 50 rows for each category for training. Note that this is even fewer than the Keras example, as this technique (parameter-efficient fine-tuning, or PEFT) updates a relatively small number of parameters and does not require training a new model or updating the large model."
   ]
  },
  {
   "cell_type": "code",
   "execution_count": 10,
   "id": "9297bff6",
   "metadata": {
    "execution": {
     "iopub.execute_input": "2024-11-18T01:46:26.230024Z",
     "iopub.status.busy": "2024-11-18T01:46:26.229595Z",
     "iopub.status.idle": "2024-11-18T01:46:26.279350Z",
     "shell.execute_reply": "2024-11-18T01:46:26.278179Z"
    },
    "id": "0t9Xu6X5akkt",
    "papermill": {
     "duration": 0.068337,
     "end_time": "2024-11-18T01:46:26.282509",
     "exception": false,
     "start_time": "2024-11-18T01:46:26.214172",
     "status": "completed"
    },
    "tags": []
   },
   "outputs": [],
   "source": [
    "def sample_data(df, num_samples, classes_to_keep):\n",
    "    # Sample rows, selecting num_samples of each Label.\n",
    "    df = (\n",
    "        df.groupby(\"Label\")[df.columns]\n",
    "        .apply(lambda x: x.sample(num_samples))\n",
    "        .reset_index(drop=True)\n",
    "    )\n",
    "\n",
    "    df = df[df[\"Class Name\"].str.contains(classes_to_keep)]\n",
    "    df[\"Class Name\"] = df[\"Class Name\"].astype(\"category\")\n",
    "\n",
    "    return df\n",
    "\n",
    "\n",
    "TRAIN_NUM_SAMPLES = 50\n",
    "TEST_NUM_SAMPLES = 10\n",
    "# Keep rec.* and sci.*\n",
    "CLASSES_TO_KEEP = \"^rec|^sci\"\n",
    "\n",
    "df_train = sample_data(df_train, TRAIN_NUM_SAMPLES, CLASSES_TO_KEEP)\n",
    "df_test = sample_data(df_test, TEST_NUM_SAMPLES, CLASSES_TO_KEEP)"
   ]
  },
  {
   "cell_type": "markdown",
   "id": "79c99cc5",
   "metadata": {
    "papermill": {
     "duration": 0.013577,
     "end_time": "2024-11-18T01:46:26.310227",
     "exception": false,
     "start_time": "2024-11-18T01:46:26.296650",
     "status": "completed"
    },
    "tags": []
   },
   "source": [
    "## Evaluate baseline performance\n",
    "\n",
    "Before you start tuning a model, it's good practice to perform an evaluation on the available models to ensure you can measure how much the tuning helps.\n",
    "\n",
    "First identify a single sample row to use for visual inspection."
   ]
  },
  {
   "cell_type": "code",
   "execution_count": 11,
   "id": "f2d82f5b",
   "metadata": {
    "execution": {
     "iopub.execute_input": "2024-11-18T01:46:26.340100Z",
     "iopub.status.busy": "2024-11-18T01:46:26.339674Z",
     "iopub.status.idle": "2024-11-18T01:46:26.347010Z",
     "shell.execute_reply": "2024-11-18T01:46:26.345729Z"
    },
    "papermill": {
     "duration": 0.025996,
     "end_time": "2024-11-18T01:46:26.350272",
     "exception": false,
     "start_time": "2024-11-18T01:46:26.324276",
     "status": "completed"
    },
    "tags": []
   },
   "outputs": [
    {
     "name": "stdout",
     "output_type": "stream",
     "text": [
      "Need info on 88-89 Bonneville\n",
      "\n",
      "\n",
      " I am a little confused on all of the models of the 88-89 bonnevilles.\n",
      "I have heard of the LE SE LSE SSE SSEI. Could someone tell me the\n",
      "differences are far as features or performance. I am also curious to\n",
      "know what the book value is for prefereably the 89 model. And how much\n",
      "less than book value can you usually get them for. In other words how\n",
      "much are they in demand this time of year. I have heard that the mid-spring\n",
      "early summer is the best time to buy.\n",
      "\n",
      "\t\t\tNeil Gandler\n",
      "\n",
      "---\n",
      "Label: rec.autos\n"
     ]
    }
   ],
   "source": [
    "sample_idx = 0\n",
    "sample_row = preprocess_newsgroup_row(newsgroups_test.data[sample_idx])\n",
    "sample_label = newsgroups_test.target_names[newsgroups_test.target[sample_idx]]\n",
    "\n",
    "print(sample_row)\n",
    "print('---')\n",
    "print('Label:', sample_label)"
   ]
  },
  {
   "cell_type": "markdown",
   "id": "14718a13",
   "metadata": {
    "papermill": {
     "duration": 0.013775,
     "end_time": "2024-11-18T01:46:26.378791",
     "exception": false,
     "start_time": "2024-11-18T01:46:26.365016",
     "status": "completed"
    },
    "tags": []
   },
   "source": [
    "Passing the text directly in as a prompt does not yield the desired results. The model will attempt to respond to the message."
   ]
  },
  {
   "cell_type": "code",
   "execution_count": 12,
   "id": "1ad2a867",
   "metadata": {
    "execution": {
     "iopub.execute_input": "2024-11-18T01:46:26.408713Z",
     "iopub.status.busy": "2024-11-18T01:46:26.408261Z",
     "iopub.status.idle": "2024-11-18T01:46:30.263934Z",
     "shell.execute_reply": "2024-11-18T01:46:30.262695Z"
    },
    "papermill": {
     "duration": 3.874467,
     "end_time": "2024-11-18T01:46:30.267292",
     "exception": false,
     "start_time": "2024-11-18T01:46:26.392825",
     "status": "completed"
    },
    "tags": []
   },
   "outputs": [
    {
     "name": "stdout",
     "output_type": "stream",
     "text": [
      "## 1988-1989 Pontiac Bonneville Model Breakdown:\n",
      "\n",
      "You're right, the 1988-1989 Bonneville lineup can be confusing! Here's a breakdown of the main trim levels:\n",
      "\n",
      "**Base Model:**\n",
      "* This was the most basic version, usually with cloth interior, steel wheels, and minimal options.\n",
      "\n",
      "**LE (Luxury Edition):**\n",
      "* Added a few convenience features like power windows and door locks, and often included vinyl roof, upgraded interior materials, and wheel covers.\n",
      "\n",
      "**SE (Sport Edition):**\n",
      "*  Focused on a sportier look with unique wheels,  a more aggressive grille, and potentially a firmer suspension.\n",
      "\n",
      "**LSE (Luxury Sport Edition):**\n",
      "* This model combined the luxury of the LE with the sportier aspects of the SE, offering a balance of comfort and performance.\n",
      "\n",
      "**SSE (Special Sport Edition):**\n",
      "*  The SSE was the top-of-the-line model. It featured a powerful 3.8L V6 engine (often with a performance package), upgraded brakes, and distinctive interior and exterior styling. It also included more standard features like leather upholstery and air conditioning.\n",
      "\n",
      "**SSEi (Special Sport Edition, Injection):**\n",
      "*  A rare variant of the SSE, the SSEi came with a fuel-injected 3.8L V6 engine, offering improved performance and fuel economy.\n",
      "\n",
      "**Book Value:**\n",
      "\n",
      "Unfortunately, without knowing the specific condition and mileage of your target 1989 Bonneville, pinpointing an accurate book value is impossible. However, you can use resources like:\n",
      "\n",
      "* **Kelley Blue Book (KBB):** [https://www.kbb.com/](https://www.kbb.com/)\n",
      "* **Edmunds:** [https://www.edmunds.com/](https://www.edmunds.com/)\n",
      "* **NADA Guides:** [https://www.nadaguides.com/](https://www.nadaguides.com/)\n",
      "\n",
      "These websites will let you enter the year, make, model, and condition (excellent, good, fair, etc.) to get a rough estimate of its current value.\n",
      "\n",
      "**Negotiating Price:**\n",
      "\n",
      "As for how much less than book value you can expect to pay, it depends heavily on:\n",
      "\n",
      "* **Demand:**  The 1988-1989 Bonnevilles aren't highly sought-after classics, so you may be able to negotiate a good deal.\n",
      "* **Condition:** A well-maintained car with low mileage will command a closer-to-book-value price.\n",
      "* **Time of Year:**  While mid-spring to early summer is generally considered a good time to buy a used car, it might not be the most ideal time for a classic like the Bonneville.\n",
      "\n",
      "**Tips for Negotiation:**\n",
      "\n",
      "* **Research:**  Use the above resources to get a good understanding of the car's market value.\n",
      "* **Be Prepared:**  Know what you're willing to pay and stick to your budget.\n",
      "* **Negotiate Firmly:**  Don't be afraid to walk away if you're not happy with the price.\n",
      "\n",
      "**Remember:**\n",
      "\n",
      "The 1988-1989 Bonneville is a reliable and comfortable car, but it's not a hot collector's item. This means you have some negotiating power, especially if you're willing to be patient and find the right deal. \n",
      "\n"
     ]
    }
   ],
   "source": [
    "baseline_model = genai.GenerativeModel(\"gemini-1.5-flash-001\")\n",
    "response = baseline_model.generate_content(sample_row)\n",
    "print(response.text)"
   ]
  },
  {
   "cell_type": "markdown",
   "id": "8593ee3e",
   "metadata": {
    "papermill": {
     "duration": 0.014053,
     "end_time": "2024-11-18T01:46:30.296218",
     "exception": false,
     "start_time": "2024-11-18T01:46:30.282165",
     "status": "completed"
    },
    "tags": []
   },
   "source": [
    "You can use the prompt engineering techniques you have learned this week to induce the model to perform the desired task. Try some of your own ideas and see what is effective, or check out the following cells for different approaches. Note that they have different levels of effectiveness!"
   ]
  },
  {
   "cell_type": "code",
   "execution_count": 13,
   "id": "23178b7a",
   "metadata": {
    "execution": {
     "iopub.execute_input": "2024-11-18T01:46:30.326978Z",
     "iopub.status.busy": "2024-11-18T01:46:30.326503Z",
     "iopub.status.idle": "2024-11-18T01:46:31.995593Z",
     "shell.execute_reply": "2024-11-18T01:46:31.994117Z"
    },
    "papermill": {
     "duration": 1.687646,
     "end_time": "2024-11-18T01:46:31.998388",
     "exception": false,
     "start_time": "2024-11-18T01:46:30.310742",
     "status": "completed"
    },
    "tags": []
   },
   "outputs": [
    {
     "name": "stdout",
     "output_type": "stream",
     "text": [
      "This message likely originates from a **Buick-specific newsgroup** or a **classic car enthusiast newsgroup**. \n",
      "\n",
      "Here's why:\n",
      "\n",
      "* **The message is about a specific car model:** The message is about the Buick Bonneville, a specific car model. \n",
      "* **The message is asking about variations and features:** The message is asking about the various trims and their differences (LE, SE, LSE, SSE, SSEi), which suggests an interest in the car's details and specifications.\n",
      "* **The message is asking about pricing:** The message mentions \"book value\" and negotiating prices, which are common topics in car-related discussions. \n",
      "\n",
      "While there are many car-related newsgroups, the most likely ones for this message are:\n",
      "\n",
      "* **alt.autos.buick:** A newsgroup specifically dedicated to Buicks.\n",
      "* **rec.autos.marketplace.cars:** A newsgroup for discussing all sorts of cars, including classic cars. \n",
      "\n",
      "These groups would likely be frequented by people knowledgeable about the specific models mentioned and their features. \n",
      "\n"
     ]
    }
   ],
   "source": [
    "# Ask the model directly in a zero-shot prompt.\n",
    "\n",
    "prompt = \"From what newsgroup does the following message originate?\"\n",
    "baseline_response = baseline_model.generate_content([prompt, sample_row])\n",
    "print(baseline_response.text)"
   ]
  },
  {
   "cell_type": "markdown",
   "id": "744715c0",
   "metadata": {
    "papermill": {
     "duration": 0.015609,
     "end_time": "2024-11-18T01:46:32.029403",
     "exception": false,
     "start_time": "2024-11-18T01:46:32.013794",
     "status": "completed"
    },
    "tags": []
   },
   "source": [
    "That technique produces quite a verbose response. You could try and pick out the relevant text, or refine the prompt even further."
   ]
  },
  {
   "cell_type": "code",
   "execution_count": 14,
   "id": "10b1a205",
   "metadata": {
    "execution": {
     "iopub.execute_input": "2024-11-18T01:46:32.061654Z",
     "iopub.status.busy": "2024-11-18T01:46:32.061143Z",
     "iopub.status.idle": "2024-11-18T01:46:32.381347Z",
     "shell.execute_reply": "2024-11-18T01:46:32.379855Z"
    },
    "papermill": {
     "duration": 0.338855,
     "end_time": "2024-11-18T01:46:32.384080",
     "exception": false,
     "start_time": "2024-11-18T01:46:32.045225",
     "status": "completed"
    },
    "tags": []
   },
   "outputs": [
    {
     "name": "stdout",
     "output_type": "stream",
     "text": [
      "rec.autos.misc\n",
      "\n",
      "Incorrect.\n"
     ]
    }
   ],
   "source": [
    "from google.api_core import retry\n",
    "\n",
    "# You can use a system instruction to do more direct prompting, and get a\n",
    "# more succinct answer.\n",
    "\n",
    "system_instruct = \"\"\"\n",
    "You are a classification service. You will be passed input that represents\n",
    "a newsgroup post and you must respond with the newsgroup from which the post\n",
    "originates.\n",
    "\"\"\"\n",
    "\n",
    "instructed_model = genai.GenerativeModel(\"gemini-1.5-flash-001\",\n",
    "                                         system_instruction=system_instruct)\n",
    "\n",
    "retry_policy = {\"retry\": retry.Retry(predicate=retry.if_transient_error)}\n",
    "\n",
    "# If you want to evaluate your own technique, replace this function with your\n",
    "# model, prompt and other code and return the predicted answer.\n",
    "def predict_label(post: str) -> str:\n",
    "    response = instructed_model.generate_content(post, request_options=retry_policy)\n",
    "    rc = response.candidates[0]\n",
    "\n",
    "    # Any errors, filters, recitation, etc we can mark as a general error\n",
    "    if rc.finish_reason.name != \"STOP\":\n",
    "        return \"(error)\"\n",
    "    else:\n",
    "        # Clean up the response.\n",
    "        return response.text.strip()\n",
    "\n",
    "\n",
    "prediction = predict_label(sample_row)\n",
    "\n",
    "print(prediction)\n",
    "print()\n",
    "print(\"Correct!\" if prediction == sample_label else \"Incorrect.\")"
   ]
  },
  {
   "cell_type": "markdown",
   "id": "98590eb9",
   "metadata": {
    "papermill": {
     "duration": 0.014283,
     "end_time": "2024-11-18T01:46:32.413015",
     "exception": false,
     "start_time": "2024-11-18T01:46:32.398732",
     "status": "completed"
    },
    "tags": []
   },
   "source": [
    "Now run a short evaluation using the function defined above. The test set is further sampled to ensure the experiment runs smoothly on the API's free tier. In practice you would evaluate over the whole set."
   ]
  },
  {
   "cell_type": "code",
   "execution_count": 15,
   "id": "862ba250",
   "metadata": {
    "execution": {
     "iopub.execute_input": "2024-11-18T01:46:32.444092Z",
     "iopub.status.busy": "2024-11-18T01:46:32.443654Z",
     "iopub.status.idle": "2024-11-18T01:47:51.553966Z",
     "shell.execute_reply": "2024-11-18T01:47:51.552839Z"
    },
    "papermill": {
     "duration": 79.128404,
     "end_time": "2024-11-18T01:47:51.556214",
     "exception": false,
     "start_time": "2024-11-18T01:46:32.427810",
     "status": "completed"
    },
    "tags": []
   },
   "outputs": [
    {
     "data": {
      "application/vnd.jupyter.widget-view+json": {
       "model_id": "41a1f8c956d346b8847bba69396ec5c5",
       "version_major": 2,
       "version_minor": 0
      },
      "text/plain": [
       "Output()"
      ]
     },
     "metadata": {},
     "output_type": "display_data"
    },
    {
     "name": "stderr",
     "output_type": "stream",
     "text": [
      "/opt/conda/lib/python3.10/site-packages/tqdm/std.py:885: TqdmExperimentalWarning: rich is experimental/alpha\n",
      "  t = cls(total=total, **tqdm_kwargs)\n"
     ]
    },
    {
     "data": {
      "text/html": [
       "<pre style=\"white-space:pre;overflow-x:auto;line-height:normal;font-family:Menlo,'DejaVu Sans Mono',consolas,'Courier New',monospace\"></pre>\n"
      ],
      "text/plain": []
     },
     "metadata": {},
     "output_type": "display_data"
    },
    {
     "data": {
      "text/html": [
       "<pre style=\"white-space:pre;overflow-x:auto;line-height:normal;font-family:Menlo,'DejaVu Sans Mono',consolas,'Courier New',monospace\">\n",
       "</pre>\n"
      ],
      "text/plain": [
       "\n"
      ]
     },
     "metadata": {},
     "output_type": "display_data"
    },
    {
     "name": "stdout",
     "output_type": "stream",
     "text": [
      "Accuracy: 43.75%\n"
     ]
    }
   ],
   "source": [
    "from tqdm.rich import tqdm\n",
    "\n",
    "tqdm.pandas()\n",
    "\n",
    "\n",
    "# Further sample the test data to be mindful of the free-tier quota.\n",
    "df_baseline_eval = sample_data(df_test, 2, '.*')\n",
    "\n",
    "# Make predictions using the sampled data.\n",
    "df_baseline_eval['Prediction'] = df_baseline_eval['Text'].progress_apply(predict_label)\n",
    "\n",
    "# And calculate the accuracy.\n",
    "accuracy = (df_baseline_eval[\"Class Name\"] == df_baseline_eval[\"Prediction\"]).sum() / len(df_baseline_eval)\n",
    "print(f\"Accuracy: {accuracy:.2%}\")"
   ]
  },
  {
   "cell_type": "markdown",
   "id": "86d81515",
   "metadata": {
    "papermill": {
     "duration": 0.018858,
     "end_time": "2024-11-18T01:47:51.594091",
     "exception": false,
     "start_time": "2024-11-18T01:47:51.575233",
     "status": "completed"
    },
    "tags": []
   },
   "source": [
    "Now take a look at the dataframe to compare the predictions with the labels."
   ]
  },
  {
   "cell_type": "code",
   "execution_count": 16,
   "id": "2868b684",
   "metadata": {
    "execution": {
     "iopub.execute_input": "2024-11-18T01:47:54.111522Z",
     "iopub.status.busy": "2024-11-18T01:47:54.111167Z",
     "iopub.status.idle": "2024-11-18T01:47:54.126051Z",
     "shell.execute_reply": "2024-11-18T01:47:54.124757Z"
    },
    "papermill": {
     "duration": 2.514919,
     "end_time": "2024-11-18T01:47:54.128571",
     "exception": false,
     "start_time": "2024-11-18T01:47:51.613652",
     "status": "completed"
    },
    "tags": []
   },
   "outputs": [
    {
     "data": {
      "text/html": [
       "<div>\n",
       "<style scoped>\n",
       "    .dataframe tbody tr th:only-of-type {\n",
       "        vertical-align: middle;\n",
       "    }\n",
       "\n",
       "    .dataframe tbody tr th {\n",
       "        vertical-align: top;\n",
       "    }\n",
       "\n",
       "    .dataframe thead th {\n",
       "        text-align: right;\n",
       "    }\n",
       "</style>\n",
       "<table border=\"1\" class=\"dataframe\">\n",
       "  <thead>\n",
       "    <tr style=\"text-align: right;\">\n",
       "      <th></th>\n",
       "      <th>Text</th>\n",
       "      <th>Label</th>\n",
       "      <th>Class Name</th>\n",
       "      <th>Prediction</th>\n",
       "    </tr>\n",
       "  </thead>\n",
       "  <tbody>\n",
       "    <tr>\n",
       "      <th>0</th>\n",
       "      <td>Re: RFI: Art of clutchless shifting\\n\\n\\nIn a ...</td>\n",
       "      <td>7</td>\n",
       "      <td>rec.autos</td>\n",
       "      <td>rec.autos.sports.cars</td>\n",
       "    </tr>\n",
       "    <tr>\n",
       "      <th>1</th>\n",
       "      <td>Houston - Auto insurance.\\n\\nHello,\\n  I am mo...</td>\n",
       "      <td>7</td>\n",
       "      <td>rec.autos</td>\n",
       "      <td>rec.autos</td>\n",
       "    </tr>\n",
       "    <tr>\n",
       "      <th>2</th>\n",
       "      <td>Re: So, do any XXXX, I mean police officers re...</td>\n",
       "      <td>8</td>\n",
       "      <td>rec.motorcycles</td>\n",
       "      <td>rec.motorcycles</td>\n",
       "    </tr>\n",
       "    <tr>\n",
       "      <th>3</th>\n",
       "      <td>Re: Traffic morons\\n\\n (Ryan Cousineau) wrote:...</td>\n",
       "      <td>8</td>\n",
       "      <td>rec.motorcycles</td>\n",
       "      <td>rec.cycling.bike</td>\n",
       "    </tr>\n",
       "    <tr>\n",
       "      <th>4</th>\n",
       "      <td>Re: Twins Update 4-22\\n\\nIn article &lt;&gt;  (Chuck...</td>\n",
       "      <td>9</td>\n",
       "      <td>rec.sport.baseball</td>\n",
       "      <td>rec.sport.baseball</td>\n",
       "    </tr>\n",
       "    <tr>\n",
       "      <th>5</th>\n",
       "      <td>Re: Yankee fears.\\n\\nHow can anyone pick the w...</td>\n",
       "      <td>9</td>\n",
       "      <td>rec.sport.baseball</td>\n",
       "      <td>rec.sport.baseball</td>\n",
       "    </tr>\n",
       "    <tr>\n",
       "      <th>6</th>\n",
       "      <td>switzerland at WC93\\n\\nwhat did happen to the ...</td>\n",
       "      <td>10</td>\n",
       "      <td>rec.sport.hockey</td>\n",
       "      <td>rec.sport.hockey</td>\n",
       "    </tr>\n",
       "    <tr>\n",
       "      <th>7</th>\n",
       "      <td>Re: #77's?\\n\\nIn article &lt;1r23on$&gt;  (\"The Logi...</td>\n",
       "      <td>10</td>\n",
       "      <td>rec.sport.hockey</td>\n",
       "      <td>rec.sports.hockey</td>\n",
       "    </tr>\n",
       "    <tr>\n",
       "      <th>8</th>\n",
       "      <td>Re: I have seen the lobby, and it is us\\n\\n (N...</td>\n",
       "      <td>11</td>\n",
       "      <td>sci.crypt</td>\n",
       "      <td>comp.infosystems.comm.policy</td>\n",
       "    </tr>\n",
       "    <tr>\n",
       "      <th>9</th>\n",
       "      <td>Re: Screw the people, crypto is for hard-core ...</td>\n",
       "      <td>11</td>\n",
       "      <td>sci.crypt</td>\n",
       "      <td>(error)</td>\n",
       "    </tr>\n",
       "    <tr>\n",
       "      <th>10</th>\n",
       "      <td>Re: Why circuit boards are green?\\n\\nFiberglas...</td>\n",
       "      <td>12</td>\n",
       "      <td>sci.electronics</td>\n",
       "      <td>comp.electronics.design</td>\n",
       "    </tr>\n",
       "    <tr>\n",
       "      <th>11</th>\n",
       "      <td>Re: How to drive an array of LEDs?\\n\\n (Phil T...</td>\n",
       "      <td>12</td>\n",
       "      <td>sci.electronics</td>\n",
       "      <td>comp.arch</td>\n",
       "    </tr>\n",
       "    <tr>\n",
       "      <th>12</th>\n",
       "      <td>HICN611 Medical News Part 2/4\\n\\n-------------...</td>\n",
       "      <td>13</td>\n",
       "      <td>sci.med</td>\n",
       "      <td>misc.health.hiv</td>\n",
       "    </tr>\n",
       "    <tr>\n",
       "      <th>13</th>\n",
       "      <td>Re: Candida(yeast) Bloom, Fact or Fiction\\n\\nI...</td>\n",
       "      <td>13</td>\n",
       "      <td>sci.med</td>\n",
       "      <td>sci.med</td>\n",
       "    </tr>\n",
       "    <tr>\n",
       "      <th>14</th>\n",
       "      <td>Re: Gamma Ray Bursters.  WHere  are they.\\n\\nI...</td>\n",
       "      <td>14</td>\n",
       "      <td>sci.space</td>\n",
       "      <td>sci.astro</td>\n",
       "    </tr>\n",
       "    <tr>\n",
       "      <th>15</th>\n",
       "      <td>Re: Space Marketing would be wonderfull.\\n\\nIn...</td>\n",
       "      <td>14</td>\n",
       "      <td>sci.space</td>\n",
       "      <td>sci.space</td>\n",
       "    </tr>\n",
       "  </tbody>\n",
       "</table>\n",
       "</div>"
      ],
      "text/plain": [
       "                                                 Text  Label  \\\n",
       "0   Re: RFI: Art of clutchless shifting\\n\\n\\nIn a ...      7   \n",
       "1   Houston - Auto insurance.\\n\\nHello,\\n  I am mo...      7   \n",
       "2   Re: So, do any XXXX, I mean police officers re...      8   \n",
       "3   Re: Traffic morons\\n\\n (Ryan Cousineau) wrote:...      8   \n",
       "4   Re: Twins Update 4-22\\n\\nIn article <>  (Chuck...      9   \n",
       "5   Re: Yankee fears.\\n\\nHow can anyone pick the w...      9   \n",
       "6   switzerland at WC93\\n\\nwhat did happen to the ...     10   \n",
       "7   Re: #77's?\\n\\nIn article <1r23on$>  (\"The Logi...     10   \n",
       "8   Re: I have seen the lobby, and it is us\\n\\n (N...     11   \n",
       "9   Re: Screw the people, crypto is for hard-core ...     11   \n",
       "10  Re: Why circuit boards are green?\\n\\nFiberglas...     12   \n",
       "11  Re: How to drive an array of LEDs?\\n\\n (Phil T...     12   \n",
       "12  HICN611 Medical News Part 2/4\\n\\n-------------...     13   \n",
       "13  Re: Candida(yeast) Bloom, Fact or Fiction\\n\\nI...     13   \n",
       "14  Re: Gamma Ray Bursters.  WHere  are they.\\n\\nI...     14   \n",
       "15  Re: Space Marketing would be wonderfull.\\n\\nIn...     14   \n",
       "\n",
       "            Class Name                    Prediction  \n",
       "0            rec.autos         rec.autos.sports.cars  \n",
       "1            rec.autos                     rec.autos  \n",
       "2      rec.motorcycles               rec.motorcycles  \n",
       "3      rec.motorcycles              rec.cycling.bike  \n",
       "4   rec.sport.baseball            rec.sport.baseball  \n",
       "5   rec.sport.baseball            rec.sport.baseball  \n",
       "6     rec.sport.hockey              rec.sport.hockey  \n",
       "7     rec.sport.hockey             rec.sports.hockey  \n",
       "8            sci.crypt  comp.infosystems.comm.policy  \n",
       "9            sci.crypt                       (error)  \n",
       "10     sci.electronics       comp.electronics.design  \n",
       "11     sci.electronics                     comp.arch  \n",
       "12             sci.med               misc.health.hiv  \n",
       "13             sci.med                       sci.med  \n",
       "14           sci.space                     sci.astro  \n",
       "15           sci.space                     sci.space  "
      ]
     },
     "execution_count": 16,
     "metadata": {},
     "output_type": "execute_result"
    }
   ],
   "source": [
    "df_baseline_eval"
   ]
  },
  {
   "cell_type": "markdown",
   "id": "3d44ce89",
   "metadata": {
    "id": "Ok7ugrLzcghX",
    "papermill": {
     "duration": 0.015457,
     "end_time": "2024-11-18T01:47:54.160114",
     "exception": false,
     "start_time": "2024-11-18T01:47:54.144657",
     "status": "completed"
    },
    "tags": []
   },
   "source": [
    "## Tune a custom model\n",
    "\n",
    "In this example you'll use tuning to help create a model that requires no prompting or system instructions and outputs succinct text from the classes you provide in the training data.\n",
    "\n",
    "The data contains both input text (the processed posts) and output text (the category, or newsgroup), which you can use to start tuning a model.\n",
    "\n",
    "The Python SDK for tuning supports Pandas dataframes as input, so you don't need any custom data generators or pipelines. Just specify the input and the relevant columns as the `input_key` and `output_key`.\n",
    "\n",
    "When calling `create_tuned_model`, you can specify model tuning hyperparameters too:\n",
    " - `epoch_count`: defines how many times to loop through the data,\n",
    " - `batch_size`: defines how many rows to process in a single step, and\n",
    " - `learning_rate`: defines the scaling factor for updating model weights at each step.\n",
    "\n",
    "You can also choose to omit them and use the defaults. [Learn more](https://developers.google.com/machine-learning/crash-course/linear-regression/hyperparameters) about these parameters and how they work. For this example these parameters were selected by running some tuning jobs and selecting parameters that were both effective and quick."
   ]
  },
  {
   "cell_type": "code",
   "execution_count": 17,
   "id": "9cf40bca",
   "metadata": {
    "execution": {
     "iopub.execute_input": "2024-11-18T01:47:54.193929Z",
     "iopub.status.busy": "2024-11-18T01:47:54.193405Z",
     "iopub.status.idle": "2024-11-18T01:47:55.350150Z",
     "shell.execute_reply": "2024-11-18T01:47:55.348861Z"
    },
    "id": "pWOZlspfY8dV",
    "papermill": {
     "duration": 1.177074,
     "end_time": "2024-11-18T01:47:55.352850",
     "exception": false,
     "start_time": "2024-11-18T01:47:54.175776",
     "status": "completed"
    },
    "tags": []
   },
   "outputs": [
    {
     "name": "stdout",
     "output_type": "stream",
     "text": [
      "newsgroup-classifier-61920\n"
     ]
    }
   ],
   "source": [
    "from collections.abc import Iterable\n",
    "import random\n",
    "\n",
    "\n",
    "# Append a random number to the model ID so you can re-run with a higher chance\n",
    "# of creating a unique model ID.\n",
    "model_id = f\"newsgroup-classifier-{random.randint(10000, 99999)}\"\n",
    "\n",
    "# Upload the training data and queue the tuning job.\n",
    "tuning_op = genai.create_tuned_model(\n",
    "    \"models/gemini-1.5-flash-001-tuning\",\n",
    "    training_data=df_train,\n",
    "    input_key=\"Text\",  # the column to use as input\n",
    "    output_key=\"Class Name\",  # the column to use as output\n",
    "    id=model_id,\n",
    "    display_name=\"Newsgroup classification model\",\n",
    "    batch_size=16,\n",
    "    epoch_count=2,\n",
    ")\n",
    "\n",
    "print(model_id)"
   ]
  },
  {
   "cell_type": "markdown",
   "id": "d9d4c6eb",
   "metadata": {
    "id": "NQ3YZ2MBubCY",
    "papermill": {
     "duration": 0.015889,
     "end_time": "2024-11-18T01:47:55.384660",
     "exception": false,
     "start_time": "2024-11-18T01:47:55.368771",
     "status": "completed"
    },
    "tags": []
   },
   "source": [
    "This has created a tuning job that will run in the background. To inspect the progress of the tuning job, run this cell to plot the current status and loss curve. Once the status reaches `ACTIVE`, tuning is complete and the model is ready to use.\n",
    "\n",
    "Tuning jobs are queued, so it may look like no training steps have been taken initially but it will progress. Tuning can take upwards of 20 minutes, depending on factors like your dataset size and how busy the tuning infrastrature is. Why not treat yourself to a nice cup of tea while you wait, or come and say \"Hi!\" to [yours truly](https://discord.com/users/132124213132787712) in the group [Discord](https://discord.com/invite/kaggle).\n",
    "\n",
    "It is safe to stop this cell at any point. It will not stop the tuning job."
   ]
  },
  {
   "cell_type": "code",
   "execution_count": 18,
   "id": "0220ea40",
   "metadata": {
    "execution": {
     "iopub.execute_input": "2024-11-18T01:47:55.418307Z",
     "iopub.status.busy": "2024-11-18T01:47:55.417842Z",
     "iopub.status.idle": "2024-11-18T01:54:59.192145Z",
     "shell.execute_reply": "2024-11-18T01:54:59.190756Z"
    },
    "id": "c4ef5f13692d",
    "papermill": {
     "duration": 423.794139,
     "end_time": "2024-11-18T01:54:59.194756",
     "exception": false,
     "start_time": "2024-11-18T01:47:55.400617",
     "status": "completed"
    },
    "tags": []
   },
   "outputs": [
    {
     "name": "stdout",
     "output_type": "stream",
     "text": [
      "State.CREATING\n",
      "State.CREATING\n",
      "State.CREATING\n",
      "State.CREATING\n",
      "State.CREATING\n",
      "State.CREATING\n",
      "State.CREATING\n",
      "Done! The model is ACTIVE\n"
     ]
    },
    {
     "name": "stderr",
     "output_type": "stream",
     "text": [
      "/opt/conda/lib/python3.10/site-packages/seaborn/_oldcore.py:1119: FutureWarning: use_inf_as_na option is deprecated and will be removed in a future version. Convert inf values to NaN before operating instead.\n",
      "  with pd.option_context('mode.use_inf_as_na', True):\n",
      "/opt/conda/lib/python3.10/site-packages/seaborn/_oldcore.py:1119: FutureWarning: use_inf_as_na option is deprecated and will be removed in a future version. Convert inf values to NaN before operating instead.\n",
      "  with pd.option_context('mode.use_inf_as_na', True):\n"
     ]
    },
    {
     "data": {
      "text/plain": [
       "<Axes: xlabel='step', ylabel='mean_loss'>"
      ]
     },
     "execution_count": 18,
     "metadata": {},
     "output_type": "execute_result"
    },
    {
     "data": {
      "image/png": "[encoded data removed]",
      "text/plain": [
       "<Figure size 640x480 with 1 Axes>"
      ]
     },
     "metadata": {},
     "output_type": "display_data"
    }
   ],
   "source": [
    "import time\n",
    "import seaborn as sns\n",
    "\n",
    "\n",
    "while (tuned_model := genai.get_tuned_model(f\"tunedModels/{model_id}\")).state.name != 'ACTIVE':\n",
    "\n",
    "    print(tuned_model.state)\n",
    "    time.sleep(60)\n",
    "\n",
    "print(f\"Done! The model is {tuned_model.state.name}\")\n",
    "\n",
    "# Plot the loss curve.\n",
    "snapshots = pd.DataFrame(tuned_model.tuning_task.snapshots)\n",
    "sns.lineplot(data=snapshots, x=\"step\", y=\"mean_loss\")\n"
   ]
  },
  {
   "cell_type": "markdown",
   "id": "b8aba4e0",
   "metadata": {
    "id": "9-qiIdK4u80z",
    "papermill": {
     "duration": 0.016867,
     "end_time": "2024-11-18T01:54:59.228988",
     "exception": false,
     "start_time": "2024-11-18T01:54:59.212121",
     "status": "completed"
    },
    "tags": []
   },
   "source": [
    "Note that the `seaborn` module may output warnings containing `FutureWarning: use_inf_as_na option is deprecated`. These are expected and can be ignored."
   ]
  },
  {
   "cell_type": "markdown",
   "id": "82dd2930",
   "metadata": {
    "id": "9-qiIdK4u80z",
    "papermill": {
     "duration": 0.017089,
     "end_time": "2024-11-18T01:54:59.263265",
     "exception": false,
     "start_time": "2024-11-18T01:54:59.246176",
     "status": "completed"
    },
    "tags": []
   },
   "source": [
    "## Use the new model\n",
    "\n",
    "Now that you have a tuned model, try it out with custom data. You use the same API as a normal Gemini API interaction, but you specify your new model as the model name, using the `tunedModels/` prefix."
   ]
  },
  {
   "cell_type": "code",
   "execution_count": 19,
   "id": "88021809",
   "metadata": {
    "execution": {
     "iopub.execute_input": "2024-11-18T01:54:59.299931Z",
     "iopub.status.busy": "2024-11-18T01:54:59.299225Z",
     "iopub.status.idle": "2024-11-18T01:55:06.068196Z",
     "shell.execute_reply": "2024-11-18T01:55:06.066799Z"
    },
    "id": "hyO2-MXLvM6a",
    "papermill": {
     "duration": 6.790422,
     "end_time": "2024-11-18T01:55:06.070797",
     "exception": false,
     "start_time": "2024-11-18T01:54:59.280375",
     "status": "completed"
    },
    "tags": []
   },
   "outputs": [
    {
     "name": "stdout",
     "output_type": "stream",
     "text": [
      "sci.space\n"
     ]
    }
   ],
   "source": [
    "your_model = genai.GenerativeModel(f\"tunedModels/{model_id}\")\n",
    "\n",
    "new_text = \"\"\"\n",
    "First-timer looking to get out of here.\n",
    "\n",
    "Hi, I'm writing about my interest in travelling to the outer limits!\n",
    "\n",
    "What kind of craft can I buy? What is easiest to access from this 3rd rock?\n",
    "\n",
    "Let me know how to do that please.\n",
    "\"\"\"\n",
    "\n",
    "response = your_model.generate_content(new_text)\n",
    "print(response.text)"
   ]
  },
  {
   "cell_type": "markdown",
   "id": "b5a2a672",
   "metadata": {
    "id": "xajLek9DySH_",
    "papermill": {
     "duration": 0.017069,
     "end_time": "2024-11-18T01:55:06.105122",
     "exception": false,
     "start_time": "2024-11-18T01:55:06.088053",
     "status": "completed"
    },
    "tags": []
   },
   "source": [
    "### Evaluation\n",
    "\n",
    "You can see that the model outputs labels that correspond to those in the training data, and without any system instructions or prompting, which is already a great improvement. Now see how well it performs on the test set.\n",
    "\n",
    "Note that there is no parallelism in this example; classifying the test sub-set will take a few minutes."
   ]
  },
  {
   "cell_type": "code",
   "execution_count": 20,
   "id": "351e1c56",
   "metadata": {
    "execution": {
     "iopub.execute_input": "2024-11-18T01:55:06.142022Z",
     "iopub.status.busy": "2024-11-18T01:55:06.141527Z",
     "iopub.status.idle": "2024-11-18T01:56:14.412579Z",
     "shell.execute_reply": "2024-11-18T01:56:14.411192Z"
    },
    "id": "6T2Y3ZApvbMw",
    "papermill": {
     "duration": 68.293193,
     "end_time": "2024-11-18T01:56:14.415613",
     "exception": false,
     "start_time": "2024-11-18T01:55:06.122420",
     "status": "completed"
    },
    "tags": []
   },
   "outputs": [
    {
     "data": {
      "application/vnd.jupyter.widget-view+json": {
       "model_id": "632ede7a4ce54041b1ed9f60704ef82b",
       "version_major": 2,
       "version_minor": 0
      },
      "text/plain": [
       "Output()"
      ]
     },
     "metadata": {},
     "output_type": "display_data"
    },
    {
     "name": "stderr",
     "output_type": "stream",
     "text": [
      "/opt/conda/lib/python3.10/site-packages/tqdm/std.py:885: TqdmExperimentalWarning: rich is experimental/alpha\n",
      "  t = cls(total=total, **tqdm_kwargs)\n"
     ]
    },
    {
     "data": {
      "text/html": [
       "<pre style=\"white-space:pre;overflow-x:auto;line-height:normal;font-family:Menlo,'DejaVu Sans Mono',consolas,'Courier New',monospace\"></pre>\n"
      ],
      "text/plain": []
     },
     "metadata": {},
     "output_type": "display_data"
    },
    {
     "data": {
      "text/html": [
       "<pre style=\"white-space:pre;overflow-x:auto;line-height:normal;font-family:Menlo,'DejaVu Sans Mono',consolas,'Courier New',monospace\">\n",
       "</pre>\n"
      ],
      "text/plain": [
       "\n"
      ]
     },
     "metadata": {},
     "output_type": "display_data"
    },
    {
     "name": "stdout",
     "output_type": "stream",
     "text": [
      "Accuracy: 87.50%\n"
     ]
    }
   ],
   "source": [
    "def classify_text(text: str) -> str:\n",
    "    \"\"\"Classify the provided text into a known newsgroup.\"\"\"\n",
    "    response = your_model.generate_content(text, request_options=retry_policy)\n",
    "    rc = response.candidates[0]\n",
    "\n",
    "    # Any errors, filters, recitation, etc we can mark as a general error\n",
    "    if rc.finish_reason.name != \"STOP\":\n",
    "        return \"(error)\"\n",
    "    else:\n",
    "        return rc.content.parts[0].text\n",
    "\n",
    "\n",
    "# The sampling here is just to minimise your quota usage. If you can, you should\n",
    "# evaluate the whole test set with `df_model_eval = df_test.copy()`.\n",
    "df_model_eval = sample_data(df_test, 4, '.*')\n",
    "\n",
    "\n",
    "df_model_eval[\"Prediction\"] = df_model_eval[\"Text\"].progress_apply(classify_text)\n",
    "\n",
    "accuracy = (df_model_eval[\"Class Name\"] == df_model_eval[\"Prediction\"]).sum() / len(df_model_eval)\n",
    "print(f\"Accuracy: {accuracy:.2%}\")"
   ]
  },
  {
   "cell_type": "markdown",
   "id": "5790e40d",
   "metadata": {
    "papermill": {
     "duration": 0.021935,
     "end_time": "2024-11-18T01:56:14.459226",
     "exception": false,
     "start_time": "2024-11-18T01:56:14.437291",
     "status": "completed"
    },
    "tags": []
   },
   "source": [
    "## Compare token usage\n",
    "\n",
    "AI Studio and the Gemini API provide model tuning at no cost, however normal limits and charges apply for *use* of a tuned model.\n",
    "\n",
    "The size of the input prompt and other generation config like system instructions, as well as the number of generated output tokens, all contribute to the overall cost of a request."
   ]
  },
  {
   "cell_type": "code",
   "execution_count": 21,
   "id": "9e2b0bc5",
   "metadata": {
    "execution": {
     "iopub.execute_input": "2024-11-18T01:56:16.719630Z",
     "iopub.status.busy": "2024-11-18T01:56:16.719229Z",
     "iopub.status.idle": "2024-11-18T01:56:17.041183Z",
     "shell.execute_reply": "2024-11-18T01:56:17.039755Z"
    },
    "papermill": {
     "duration": 2.561859,
     "end_time": "2024-11-18T01:56:17.043806",
     "exception": false,
     "start_time": "2024-11-18T01:56:14.481947",
     "status": "completed"
    },
    "tags": []
   },
   "outputs": [
    {
     "name": "stdout",
     "output_type": "stream",
     "text": [
      "System instructed baseline model: 171 (input)\n",
      "Tuned model: 135 (input)\n",
      "Token savings: 26.67%\n"
     ]
    }
   ],
   "source": [
    "# Calculate the *input* cost of the baseline model with system instructions.\n",
    "sysint_tokens = instructed_model.count_tokens(sample_row).total_tokens\n",
    "print(f'System instructed baseline model: {sysint_tokens} (input)')\n",
    "\n",
    "# Calculate the input cost of the tuned model.\n",
    "tuned_tokens = your_model.count_tokens(sample_row).total_tokens\n",
    "print(f'Tuned model: {tuned_tokens} (input)')\n",
    "\n",
    "savings = (sysint_tokens - tuned_tokens) / tuned_tokens\n",
    "print(f'Token savings: {savings:.2%}')  # Note that this is only n=1."
   ]
  },
  {
   "cell_type": "markdown",
   "id": "6fe111ec",
   "metadata": {
    "papermill": {
     "duration": 0.01791,
     "end_time": "2024-11-18T01:56:17.080644",
     "exception": false,
     "start_time": "2024-11-18T01:56:17.062734",
     "status": "completed"
    },
    "tags": []
   },
   "source": [
    "The earlier verbose model also produced more output tokens than needed for this task."
   ]
  },
  {
   "cell_type": "code",
   "execution_count": 22,
   "id": "752790ca",
   "metadata": {
    "execution": {
     "iopub.execute_input": "2024-11-18T01:56:17.119563Z",
     "iopub.status.busy": "2024-11-18T01:56:17.119097Z",
     "iopub.status.idle": "2024-11-18T01:56:18.065711Z",
     "shell.execute_reply": "2024-11-18T01:56:18.064371Z"
    },
    "papermill": {
     "duration": 0.969208,
     "end_time": "2024-11-18T01:56:18.068583",
     "exception": false,
     "start_time": "2024-11-18T01:56:17.099375",
     "status": "completed"
    },
    "tags": []
   },
   "outputs": [
    {
     "name": "stdout",
     "output_type": "stream",
     "text": [
      "Baseline (verbose) output tokens: 221\n",
      "Tuned output tokens: 4\n"
     ]
    }
   ],
   "source": [
    "baseline_token_output = baseline_response.usage_metadata.candidates_token_count\n",
    "print('Baseline (verbose) output tokens:', baseline_token_output)\n",
    "\n",
    "tuned_model_output = your_model.generate_content(sample_row)\n",
    "tuned_tokens_output = tuned_model_output.usage_metadata.candidates_token_count\n",
    "print('Tuned output tokens:', tuned_tokens_output)"
   ]
  },
  {
   "cell_type": "markdown",
   "id": "6b523573",
   "metadata": {
    "id": "6c1204a5d0ab",
    "papermill": {
     "duration": 0.018177,
     "end_time": "2024-11-18T01:56:18.105389",
     "exception": false,
     "start_time": "2024-11-18T01:56:18.087212",
     "status": "completed"
    },
    "tags": []
   },
   "source": [
    "## Next steps\n",
    "\n",
    "Now that you have tuned a classification model, try some other tasks, like tuning a model to respond with a specific tone or style using hand-written examples (or even generated examples!). Kaggle hosts [a number of datasets](https://www.kaggle.com/datasets) you can try out.\n",
    "\n",
    "Learn about [when supervised fine-tuning is most effective](https://cloud.google.com/blog/products/ai-machine-learning/supervised-fine-tuning-for-gemini-llm).\n",
    "\n",
    "And check out the [fine-tuning tutorial](https://ai.google.dev/gemini-api/docs/model-tuning/tutorial?hl=en&lang=python) for another example that shows a tuned model extending beyond the training data to new, unseen inputs."
   ]
  }
 ],
 "metadata": {
  "colab": {
   "name": "day-4-fine-tuning-a-custom-model.ipynb",
   "toc_visible": true
  },
  "kaggle": {
   "accelerator": "none",
   "dataSources": [],
   "dockerImageVersionId": 30786,
   "isGpuEnabled": false,
   "isInternetEnabled": true,
   "language": "python",
   "sourceType": "notebook"
  },
  "kernelspec": {
   "display_name": "Python 3",
   "language": "python",
   "name": "python3"
  },
  "language_info": {
   "codemirror_mode": {
    "name": "ipython",
    "version": 3
   },
   "file_extension": ".py",
   "mimetype": "text/x-python",
   "name": "python",
   "nbconvert_exporter": "python",
   "pygments_lexer": "ipython3",
   "version": "3.10.14"
  },
  "papermill": {
   "default_parameters": {},
   "duration": 650.02504,
   "end_time": "2024-11-18T01:56:19.047045",
   "environment_variables": {},
   "exception": null,
   "input_path": "__notebook__.ipynb",
   "output_path": "__notebook__.ipynb",
   "parameters": {},
   "start_time": "2024-11-18T01:45:29.022005",
   "version": "2.6.0"
  },
  "widgets": {
   "application/vnd.jupyter.widget-state+json": {
    "state": {
     "41a1f8c956d346b8847bba69396ec5c5": {
      "model_module": "@jupyter-widgets/output",
      "model_module_version": "1.0.0",
      "model_name": "OutputModel",
      "state": {
       "_dom_classes": [],
       "_model_module": "@jupyter-widgets/output",
       "_model_module_version": "1.0.0",
       "_model_name": "OutputModel",
       "_view_count": null,
       "_view_module": "@jupyter-widgets/output",
       "_view_module_version": "1.0.0",
       "_view_name": "OutputView",
       "layout": "IPY_MODEL_ad00fece0bea4d0085a3647fb24e9667",
       "msg_id": "",
       "outputs": [
        {
         "data": {
          "text/html": "<pre style=\"white-space:pre;overflow-x:auto;line-height:normal;font-family:Menlo,'DejaVu Sans Mono',consolas,'Courier New',monospace\"><span style=\"color: #800080; text-decoration-color: #800080\"> 100%</span> <span style=\"color: #729c1f; text-decoration-color: #729c1f\">━━━━━━━━━━━━━━━━━━━━━━━━━━━━━━━━━━━━━━━━━━━━━━━━━━━━━━━━━━━━━━━━━━━━━━━</span> <span style=\"color: #008000; text-decoration-color: #008000\">16/16 </span> [ <span style=\"color: #808000; text-decoration-color: #808000\">0:00:07</span> &lt; <span style=\"color: #008080; text-decoration-color: #008080\">0:00:00</span> , <span style=\"color: #800000; text-decoration-color: #800000\">2 it/s</span> ]\n</pre>\n",
          "text/plain": "\u001b[35m 100%\u001b[0m \u001b[38;2;114;156;31m━━━━━━━━━━━━━━━━━━━━━━━━━━━━━━━━━━━━━━━━━━━━━━━━━━━━━━━━━━━━━━━━━━━━━━━\u001b[0m \u001b[32m16/16 \u001b[0m [ \u001b[33m0:00:07\u001b[0m < \u001b[36m0:00:00\u001b[0m , \u001b[31m2 it/s\u001b[0m ]\n"
         },
         "metadata": {},
         "output_type": "display_data"
        }
       ]
      }
     },
     "632ede7a4ce54041b1ed9f60704ef82b": {
      "model_module": "@jupyter-widgets/output",
      "model_module_version": "1.0.0",
      "model_name": "OutputModel",
      "state": {
       "_dom_classes": [],
       "_model_module": "@jupyter-widgets/output",
       "_model_module_version": "1.0.0",
       "_model_name": "OutputModel",
       "_view_count": null,
       "_view_module": "@jupyter-widgets/output",
       "_view_module_version": "1.0.0",
       "_view_name": "OutputView",
       "layout": "IPY_MODEL_bf4f21e6d4d44a5289391388ab6699e7",
       "msg_id": "",
       "outputs": [
        {
         "data": {
          "text/html": "<pre style=\"white-space:pre;overflow-x:auto;line-height:normal;font-family:Menlo,'DejaVu Sans Mono',consolas,'Courier New',monospace\"><span style=\"color: #800080; text-decoration-color: #800080\"> 100%</span> <span style=\"color: #729c1f; text-decoration-color: #729c1f\">━━━━━━━━━━━━━━━━━━━━━━━━━━━━━━━━━━━━━━━━━━━━━━━━━━━━━━━━━━━━━━━━━━━━━━━</span> <span style=\"color: #008000; text-decoration-color: #008000\">32/32 </span> [ <span style=\"color: #808000; text-decoration-color: #808000\">0:01:07</span> &lt; <span style=\"color: #008080; text-decoration-color: #008080\">0:00:00</span> , <span style=\"color: #800000; text-decoration-color: #800000\">1 it/s</span> ]\n</pre>\n",
          "text/plain": "\u001b[35m 100%\u001b[0m \u001b[38;2;114;156;31m━━━━━━━━━━━━━━━━━━━━━━━━━━━━━━━━━━━━━━━━━━━━━━━━━━━━━━━━━━━━━━━━━━━━━━━\u001b[0m \u001b[32m32/32 \u001b[0m [ \u001b[33m0:01:07\u001b[0m < \u001b[36m0:00:00\u001b[0m , \u001b[31m1 it/s\u001b[0m ]\n"
         },
         "metadata": {},
         "output_type": "display_data"
        }
       ]
      }
     },
     "ad00fece0bea4d0085a3647fb24e9667": {
      "model_module": "@jupyter-widgets/base",
      "model_module_version": "1.2.0",
      "model_name": "LayoutModel",
      "state": {
       "_model_module": "@jupyter-widgets/base",
       "_model_module_version": "1.2.0",
       "_model_name": "LayoutModel",
       "_view_count": null,
       "_view_module": "@jupyter-widgets/base",
       "_view_module_version": "1.2.0",
       "_view_name": "LayoutView",
       "align_content": null,
       "align_items": null,
       "align_self": null,
       "border": null,
       "bottom": null,
       "display": null,
       "flex": null,
       "flex_flow": null,
       "grid_area": null,
       "grid_auto_columns": null,
       "grid_auto_flow": null,
       "grid_auto_rows": null,
       "grid_column": null,
       "grid_gap": null,
       "grid_row": null,
       "grid_template_areas": null,
       "grid_template_columns": null,
       "grid_template_rows": null,
       "height": null,
       "justify_content": null,
       "justify_items": null,
       "left": null,
       "margin": null,
       "max_height": null,
       "max_width": null,
       "min_height": null,
       "min_width": null,
       "object_fit": null,
       "object_position": null,
       "order": null,
       "overflow": null,
       "overflow_x": null,
       "overflow_y": null,
       "padding": null,
       "right": null,
       "top": null,
       "visibility": null,
       "width": null
      }
     },
     "bf4f21e6d4d44a5289391388ab6699e7": {
      "model_module": "@jupyter-widgets/base",
      "model_module_version": "1.2.0",
      "model_name": "LayoutModel",
      "state": {
       "_model_module": "@jupyter-widgets/base",
       "_model_module_version": "1.2.0",
       "_model_name": "LayoutModel",
       "_view_count": null,
       "_view_module": "@jupyter-widgets/base",
       "_view_module_version": "1.2.0",
       "_view_name": "LayoutView",
       "align_content": null,
       "align_items": null,
       "align_self": null,
       "border": null,
       "bottom": null,
       "display": null,
       "flex": null,
       "flex_flow": null,
       "grid_area": null,
       "grid_auto_columns": null,
       "grid_auto_flow": null,
       "grid_auto_rows": null,
       "grid_column": null,
       "grid_gap": null,
       "grid_row": null,
       "grid_template_areas": null,
       "grid_template_columns": null,
       "grid_template_rows": null,
       "height": null,
       "justify_content": null,
       "justify_items": null,
       "left": null,
       "margin": null,
       "max_height": null,
       "max_width": null,
       "min_height": null,
       "min_width": null,
       "object_fit": null,
       "object_position": null,
       "order": null,
       "overflow": null,
       "overflow_x": null,
       "overflow_y": null,
       "padding": null,
       "right": null,
       "top": null,
       "visibility": null,
       "width": null
      }
     }
    },
    "version_major": 2,
    "version_minor": 0
   }
  }
 },
 "nbformat": 4,
 "nbformat_minor": 5
}
