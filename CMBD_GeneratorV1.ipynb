{
  "nbformat": 4,
  "nbformat_minor": 0,
  "metadata": {
    "colab": {
      "provenance": [],
      "authorship_tag": "ABX9TyO/QgwcexlCFZ6IOygaHA4f",
      "include_colab_link": true
    },
    "kernelspec": {
      "name": "python3",
      "display_name": "Python 3"
    },
    "language_info": {
      "name": "python"
    }
  },
  "cells": [
    {
      "cell_type": "markdown",
      "metadata": {
        "id": "view-in-github",
        "colab_type": "text"
      },
      "source": [
        "<a href=\"https://colab.research.google.com/github/vkrisvasan/GeminiAI_KV/blob/main/CMBD_GeneratorV1.ipynb\" target=\"_parent\"><img src=\"https://colab.research.google.com/assets/colab-badge.svg\" alt=\"Open In Colab\"/></a>"
      ]
    },
    {
      "cell_type": "code",
      "source": [
        "!pip install faker"
      ],
      "metadata": {
        "colab": {
          "base_uri": "https://localhost:8080/"
        },
        "id": "U9YIphMscpaI",
        "outputId": "6bbb3887-dcdd-47b9-bd23-2738df3ad1a9"
      },
      "execution_count": 2,
      "outputs": [
        {
          "output_type": "stream",
          "name": "stdout",
          "text": [
            "Collecting faker\n",
            "  Downloading Faker-26.0.0-py3-none-any.whl (1.8 MB)\n",
            "\u001b[2K     \u001b[90m━━━━━━━━━━━━━━━━━━━━━━━━━━━━━━━━━━━━━━━━\u001b[0m \u001b[32m1.8/1.8 MB\u001b[0m \u001b[31m7.4 MB/s\u001b[0m eta \u001b[36m0:00:00\u001b[0m\n",
            "\u001b[?25hRequirement already satisfied: python-dateutil>=2.4 in /usr/local/lib/python3.10/dist-packages (from faker) (2.8.2)\n",
            "Requirement already satisfied: six>=1.5 in /usr/local/lib/python3.10/dist-packages (from python-dateutil>=2.4->faker) (1.16.0)\n",
            "Installing collected packages: faker\n",
            "Successfully installed faker-26.0.0\n"
          ]
        }
      ]
    },
    {
      "cell_type": "code",
      "source": [
        "import pandas as pd\n",
        "from faker import Faker\n",
        "import random"
      ],
      "metadata": {
        "id": "C9EwbFX8cbiI"
      },
      "execution_count": 3,
      "outputs": []
    },
    {
      "cell_type": "code",
      "execution_count": 4,
      "metadata": {
        "colab": {
          "base_uri": "https://localhost:8080/"
        },
        "id": "nCHojXAicV20",
        "outputId": "976b6452-c3c2-43e5-e744-a1983067958d"
      },
      "outputs": [
        {
          "output_type": "stream",
          "name": "stdout",
          "text": [
            "Synthetic CMDB has been generated and saved to Synthetic_CMDB.csv\n"
          ]
        }
      ],
      "source": [
        "\n",
        "\n",
        "fake = Faker()\n",
        "\n",
        "# Define categories and sub-categories\n",
        "ci_categories = {\n",
        "    \"Hardware\": [\"Servers\", \"Routers\", \"Switches\", \"Desktops\", \"Laptops\"],\n",
        "    \"Software\": [\"Applications\", \"Operating Systems\", \"Databases\", \"SDLC Tools\"],\n",
        "    \"Network\": [\"Firewalls\", \"Load Balancers\"],\n",
        "    \"Documentation\": [\"User Manuals\", \"System Diagrams\"]\n",
        "}\n",
        "\n",
        "statuses = [\"Active\", \"Inactive\", \"End-of-Life\", \"Retired\"]\n",
        "\n",
        "# Generate synthetic CMDB data\n",
        "def generate_cmdb_data(num_records):\n",
        "    data = {\n",
        "        \"CI ID\": [],\n",
        "        \"CI Name\": [],\n",
        "        \"CI Category\": [],\n",
        "        \"CI Sub Category\": [],\n",
        "        \"Relationships\": [],\n",
        "        \"Dependencies\": [],\n",
        "        \"Status\": [],\n",
        "        \"Owner\": [],\n",
        "        \"Last Updated\": []\n",
        "    }\n",
        "\n",
        "    for i in range(num_records):\n",
        "        ci_category = random.choice(list(ci_categories.keys()))\n",
        "        ci_sub_category = random.choice(ci_categories[ci_category])\n",
        "        status = random.choice(statuses)\n",
        "\n",
        "        ci_id = f\"CI{1000+i:04}\"\n",
        "        data[\"CI ID\"].append(ci_id)\n",
        "        data[\"CI Name\"].append(fake.word().capitalize() + str(i))\n",
        "        data[\"CI Category\"].append(ci_category)\n",
        "        data[\"CI Sub Category\"].append(ci_sub_category)\n",
        "        data[\"Status\"].append(status)\n",
        "        data[\"Owner\"].append(fake.company())\n",
        "        data[\"Last Updated\"].append(fake.date_this_year())\n",
        "\n",
        "    # Establish logical relationships and dependencies\n",
        "    for i in range(num_records):\n",
        "        ci_id = data[\"CI ID\"][i]\n",
        "        ci_category = data[\"CI Category\"][i]\n",
        "\n",
        "        if ci_category == \"Software\":\n",
        "            related_hardware = random.choice([id for idx, id in enumerate(data[\"CI ID\"]) if data[\"CI Category\"][idx] == \"Hardware\"])\n",
        "            dependency_software = random.choice([id for idx, id in enumerate(data[\"CI ID\"]) if data[\"CI Category\"][idx] == \"Software\" and id != ci_id])\n",
        "            data[\"Relationships\"].append(f\"Runs on {related_hardware}\")\n",
        "            data[\"Dependencies\"].append(f\"Depends on {dependency_software}\")\n",
        "\n",
        "        elif ci_category == \"Hardware\":\n",
        "            if data[\"CI Sub Category\"][i] in [\"Servers\", \"Desktops\", \"Laptops\"]:\n",
        "                related_network = random.choice([id for idx, id in enumerate(data[\"CI ID\"]) if data[\"CI Category\"][idx] == \"Network\"])\n",
        "                data[\"Relationships\"].append(f\"Connected by {related_network}\")\n",
        "                data[\"Dependencies\"].append(\"None\")\n",
        "            else:\n",
        "                data[\"Relationships\"].append(\"None\")\n",
        "                data[\"Dependencies\"].append(\"None\")\n",
        "\n",
        "        elif ci_category == \"Network\":\n",
        "            related_hardware = random.choice([id for idx, id in enumerate(data[\"CI ID\"]) if data[\"CI Category\"][idx] == \"Hardware\"])\n",
        "            data[\"Relationships\"].append(f\"Connecting {related_hardware}\")\n",
        "            data[\"Dependencies\"].append(\"None\")\n",
        "\n",
        "        else:\n",
        "            data[\"Relationships\"].append(\"None\")\n",
        "            data[\"Dependencies\"].append(\"None\")\n",
        "\n",
        "    return pd.DataFrame(data)\n",
        "\n",
        "# Generate 500 synthetic CMDB records\n",
        "cmdb_df = generate_cmdb_data(500)\n",
        "\n",
        "# Save the DataFrame to a CSV file\n",
        "cmdb_df.to_csv(\"Synthetic_CMDB.csv\", index=False)\n",
        "\n",
        "print(\"Synthetic CMDB has been generated and saved to Synthetic_CMDB.csv\")\n"
      ]
    }
  ]
}