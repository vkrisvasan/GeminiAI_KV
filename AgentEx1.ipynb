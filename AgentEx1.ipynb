{
  "nbformat": 4,
  "nbformat_minor": 0,
  "metadata": {
    "colab": {
      "provenance": [],
      "authorship_tag": "ABX9TyOKX6KzBGlRTOReQOFiuJD6",
      "include_colab_link": true
    },
    "kernelspec": {
      "name": "python3",
      "display_name": "Python 3"
    },
    "language_info": {
      "name": "python"
    }
  },
  "cells": [
    {
      "cell_type": "markdown",
      "metadata": {
        "id": "view-in-github",
        "colab_type": "text"
      },
      "source": [
        "<a href=\"https://colab.research.google.com/github/vkrisvasan/GeminiAI_KV/blob/main/AgentEx1.ipynb\" target=\"_parent\"><img src=\"https://colab.research.google.com/assets/colab-badge.svg\" alt=\"Open In Colab\"/></a>"
      ]
    },
    {
      "cell_type": "code",
      "execution_count": 3,
      "metadata": {
        "id": "vTBY34QFMTm-"
      },
      "outputs": [],
      "source": [
        "#build and deploy an agent that uses the Gemini Pro model, Python functions as tools, and LangChain for orchestration\n",
        "#create storage bucket in https://console.cloud.google.com/storage/browser\n",
        "#create project in"
      ]
    },
    {
      "cell_type": "code",
      "source": [
        "!pip install --upgrade --quiet \\\n",
        "    google-cloud-aiplatform==1.51.0 \\\n",
        "    langchain==0.1.20 \\\n",
        "    langchain-google-vertexai==1.0.3 \\\n",
        "    cloudpickle==3.0.0 \\\n",
        "    pydantic==2.7.1 \\\n",
        "    requests"
      ],
      "metadata": {
        "id": "XzW2R75XN1-y"
      },
      "execution_count": 1,
      "outputs": []
    },
    {
      "cell_type": "code",
      "source": [
        "# Restart kernel after installs so that your environment can access the new packages\n",
        "import IPython\n",
        "\n",
        "app = IPython.Application.instance()\n",
        "app.kernel.do_shutdown(True)"
      ],
      "metadata": {
        "colab": {
          "base_uri": "https://localhost:8080/"
        },
        "id": "4Mik5EMiTTky",
        "outputId": "52d7d059-791f-43e0-d5eb-7df7c7789663"
      },
      "execution_count": 2,
      "outputs": [
        {
          "output_type": "execute_result",
          "data": {
            "text/plain": [
              "{'status': 'ok', 'restart': True}"
            ]
          },
          "metadata": {},
          "execution_count": 2
        }
      ]
    },
    {
      "cell_type": "code",
      "source": [
        "import sys\n",
        "\n",
        "if \"google.colab\" in sys.modules:\n",
        "    from google.colab import auth\n",
        "\n",
        "    auth.authenticate_user()"
      ],
      "metadata": {
        "id": "ENhCR3o5TYFL"
      },
      "execution_count": 1,
      "outputs": []
    },
    {
      "cell_type": "code",
      "source": [
        "import os\n",
        "import getpass\n",
        "credential_names = [\"GCP_PROJECT_ID\", \"LOCATION\", \"STAGING_BUCKET\"]\n",
        "for credential in credential_names:\n",
        "  if credential not in os.environ:\n",
        "    os.environ[credential]=getpass.getpass(\"Provide your...\" + credential)"
      ],
      "metadata": {
        "id": "dpF7UNSPWYFj"
      },
      "execution_count": 5,
      "outputs": []
    },
    {
      "cell_type": "code",
      "source": [
        "PROJECT_ID = os.environ[\"GCP_PROJECT_ID\"]\n",
        "LOCATION = os.environ[\"LOCATION\"]\n",
        "STAGING_BUCKET = os.environ[\"STAGING_BUCKET\"]\n",
        "STAGING_BUCKET_FULL = \"gs://{}\".format(STAGING_BUCKET)\n"
      ],
      "metadata": {
        "id": "cmGETYeUYOFN"
      },
      "execution_count": 12,
      "outputs": []
    },
    {
      "cell_type": "code",
      "source": [
        "import vertexai\n",
        "\n",
        "vertexai.init(project=PROJECT_ID, location=LOCATION, staging_bucket=STAGING_BUCKET_FULL)"
      ],
      "metadata": {
        "id": "VS38Ko2zThob"
      },
      "execution_count": 13,
      "outputs": []
    },
    {
      "cell_type": "code",
      "source": [
        "import requests\n",
        "from vertexai.preview import reasoning_engines"
      ],
      "metadata": {
        "id": "aKdad2jkZL_a"
      },
      "execution_count": 14,
      "outputs": []
    },
    {
      "cell_type": "code",
      "source": [
        "model = \"gemini-1.5-pro-preview-0409\""
      ],
      "metadata": {
        "id": "5gbiik9iZRnm"
      },
      "execution_count": 15,
      "outputs": []
    },
    {
      "cell_type": "code",
      "source": [
        "def get_exchange_rate(\n",
        "    currency_from: str = \"USD\",\n",
        "    currency_to: str = \"EUR\",\n",
        "    currency_date: str = \"latest\",\n",
        "):\n",
        "    \"\"\"Retrieves the exchange rate between two currencies on a specified date.\"\"\"\n",
        "    import requests\n",
        "\n",
        "    response = requests.get(\n",
        "        f\"https://api.frankfurter.app/{currency_date}\",\n",
        "        params={\"from\": currency_from, \"to\": currency_to},\n",
        "    )\n",
        "    return response.json()"
      ],
      "metadata": {
        "id": "emxYQrNJZUOi"
      },
      "execution_count": 16,
      "outputs": []
    },
    {
      "cell_type": "code",
      "source": [
        "get_exchange_rate(currency_from=\"USD\", currency_to=\"SEK\")"
      ],
      "metadata": {
        "colab": {
          "base_uri": "https://localhost:8080/"
        },
        "id": "ziU1BWncZXZt",
        "outputId": "cbd01205-a3c1-47ff-ba97-fab04df65aa3"
      },
      "execution_count": 17,
      "outputs": [
        {
          "output_type": "execute_result",
          "data": {
            "text/plain": [
              "{'amount': 1.0, 'base': 'USD', 'date': '2024-06-12', 'rates': {'SEK': 10.4361}}"
            ]
          },
          "metadata": {},
          "execution_count": 17
        }
      ]
    },
    {
      "cell_type": "code",
      "source": [
        "agent = reasoning_engines.LangchainAgent(\n",
        "    model=model,\n",
        "    tools=[get_exchange_rate],\n",
        "    agent_executor_kwargs={\"return_intermediate_steps\": True},\n",
        ")"
      ],
      "metadata": {
        "id": "FUnFFWWXZcKb"
      },
      "execution_count": 18,
      "outputs": []
    },
    {
      "cell_type": "code",
      "source": [
        "agent.query(input=\"What's the exchange rate from US dollars to Swedish currency today?\")"
      ],
      "metadata": {
        "colab": {
          "base_uri": "https://localhost:8080/"
        },
        "id": "xXjWR2YkZfkW",
        "outputId": "53d06690-fe10-4ee3-80ff-abeab10cd03c"
      },
      "execution_count": 19,
      "outputs": [
        {
          "output_type": "execute_result",
          "data": {
            "text/plain": [
              "{'input': \"What's the exchange rate from US dollars to Swedish currency today?\",\n",
              " 'output': 'The exchange rate from US dollars to Swedish krona today is 1 USD to 10.4361 SEK. \\n',\n",
              " 'intermediate_steps': [[{'lc': 1,\n",
              "    'type': 'constructor',\n",
              "    'id': ['langchain', 'schema', 'agent', 'ToolAgentAction'],\n",
              "    'kwargs': {'tool': 'get_exchange_rate',\n",
              "     'tool_input': {'currency_from': 'USD', 'currency_to': 'SEK'},\n",
              "     'log': \"\\nInvoking: `get_exchange_rate` with `{'currency_from': 'USD', 'currency_to': 'SEK'}`\\n\\n\\n\",\n",
              "     'type': 'AgentActionMessageLog',\n",
              "     'message_log': [{'lc': 1,\n",
              "       'type': 'constructor',\n",
              "       'id': ['langchain', 'schema', 'messages', 'AIMessageChunk'],\n",
              "       'kwargs': {'content': '',\n",
              "        'additional_kwargs': {'function_call': {'name': 'get_exchange_rate',\n",
              "          'arguments': '{\"currency_from\": \"USD\", \"currency_to\": \"SEK\"}'}},\n",
              "        'response_metadata': {'is_blocked': False,\n",
              "         'safety_ratings': [{'category': 'HARM_CATEGORY_HATE_SPEECH',\n",
              "           'probability_label': 'NEGLIGIBLE',\n",
              "           'blocked': False},\n",
              "          {'category': 'HARM_CATEGORY_DANGEROUS_CONTENT',\n",
              "           'probability_label': 'NEGLIGIBLE',\n",
              "           'blocked': False},\n",
              "          {'category': 'HARM_CATEGORY_HARASSMENT',\n",
              "           'probability_label': 'NEGLIGIBLE',\n",
              "           'blocked': False},\n",
              "          {'category': 'HARM_CATEGORY_SEXUALLY_EXPLICIT',\n",
              "           'probability_label': 'NEGLIGIBLE',\n",
              "           'blocked': False}],\n",
              "         'citation_metadata': None,\n",
              "         'usage_metadata': {'prompt_token_count': 74,\n",
              "          'candidates_token_count': 13,\n",
              "          'total_token_count': 87}},\n",
              "        'type': 'AIMessageChunk',\n",
              "        'id': 'run-6af4b4ab-ef91-4cea-beb4-4cba48364d4d',\n",
              "        'tool_calls': [{'name': 'get_exchange_rate',\n",
              "          'args': {'currency_from': 'USD', 'currency_to': 'SEK'},\n",
              "          'id': '327332dd-d8cd-4223-86b8-822e60f1b60b'}],\n",
              "        'tool_call_chunks': [{'name': 'get_exchange_rate',\n",
              "          'args': '{\"currency_from\": \"USD\", \"currency_to\": \"SEK\"}',\n",
              "          'id': '327332dd-d8cd-4223-86b8-822e60f1b60b',\n",
              "          'index': None}],\n",
              "        'invalid_tool_calls': []}}],\n",
              "     'tool_call_id': '327332dd-d8cd-4223-86b8-822e60f1b60b'}},\n",
              "   {'amount': 1.0,\n",
              "    'base': 'USD',\n",
              "    'date': '2024-06-12',\n",
              "    'rates': {'SEK': 10.4361}}]]}"
            ]
          },
          "metadata": {},
          "execution_count": 19
        }
      ]
    },
    {
      "cell_type": "code",
      "source": [
        "agent = reasoning_engines.LangchainAgent(\n",
        "    model=model,\n",
        "    tools=[get_exchange_rate],\n",
        ")"
      ],
      "metadata": {
        "id": "iSL86jVuaCj_"
      },
      "execution_count": 20,
      "outputs": []
    },
    {
      "cell_type": "code",
      "source": [
        "remote_agent = reasoning_engines.ReasoningEngine.create(\n",
        "    agent,\n",
        "    requirements=[\n",
        "        \"google-cloud-aiplatform==1.51.0\",\n",
        "        \"langchain==0.1.20\",\n",
        "        \"langchain-google-vertexai==1.0.3\",\n",
        "        \"cloudpickle==3.0.0\",\n",
        "        \"pydantic==2.7.1\",\n",
        "        \"requests\",\n",
        "    ],\n",
        ")"
      ],
      "metadata": {
        "id": "5pMuWw6SaGvt"
      },
      "execution_count": null,
      "outputs": []
    },
    {
      "cell_type": "code",
      "source": [
        "remote_agent.query(\n",
        "    input=\"What's the exchange rate from US dollars to Swedish currency today?\"\n",
        ")"
      ],
      "metadata": {
        "id": "kRmMqB6gaPsb"
      },
      "execution_count": null,
      "outputs": []
    }
  ]
}